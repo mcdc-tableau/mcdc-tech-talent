{
 "cells": [
  {
   "cell_type": "markdown",
   "id": "8dd06f4e",
   "metadata": {},
   "source": [
    "# Tech Talent Dashboard Data Upload\n",
    "\n",
    "This notebook can be run after the data preprocessing notebook has completed successfully.  It will load the preprocessed files found in the `db` folder to the correct location on Google Sheets.  \n",
    "\n",
    "Tableau Public can refresh automatically from Google Sheets data sources by default.  As the final loading step, we'll connect to the Google Sheets API, find and open the correct file, delete its contents, then insert our new data into the empty file.\n",
    "\n",
    "*Note: Tableau Public data connections to Google Sheets uses the file's unique id rather than the filename.  Uploading a new copy of the file will also generate a new id for that file, which in turn will break the connection between the dashboard and the data.*\n",
    "\n",
    "### This step is not reversible.  It is advised to download and retain a backup of the existing files in the `mcdc-tech-talent` folder on Google Drive as a zip file before proceeding with the steps in this notebook."
   ]
  },
  {
   "cell_type": "markdown",
   "id": "7bc207f7",
   "metadata": {},
   "source": [
    "# Google API\n",
    "\n",
    "We'll use the previously created Google Drive functions to find the correct files to overwrite, and also import a package called `gspread` to perform the Google Sheets operations (this package just makes our lives easier).\n",
    "\n",
    "These initial steps will create a connection object to the [Google Drive API](https://developers.google.com/drive/api/v3/about-sdk) called `service`.  A valid authentication key from Google must be saved as key.json in the project's root directory.  This project uses [service accounts](https://cloud.google.com/iam/docs/understanding-service-accounts) for authentication to both the Google [Drive](https://developers.google.com/drive/api/v3/about-sdk) and [Sheets](https://developers.google.com/sheets/api/reference/rest) APIs."
   ]
  },
  {
   "cell_type": "code",
   "execution_count": 1,
   "id": "174c88d7",
   "metadata": {},
   "outputs": [],
   "source": [
    "import os\n",
    "from pathlib import Path\n",
    "\n",
    "import gspread\n",
    "import pandas as pd\n",
    "from google.oauth2 import service_account\n",
    "from googleapiclient.discovery import build\n"
   ]
  },
  {
   "cell_type": "code",
   "execution_count": 2,
   "id": "5440e0b8",
   "metadata": {},
   "outputs": [],
   "source": [
    "CLIENT_SECRET_FILE = 'key.json'\n",
    "SCOPES = ['https://www.googleapis.com/auth/drive', \n",
    "          'https://www.googleapis.com/auth/spreadsheets']\n",
    "\n",
    "creds = service_account.Credentials.from_service_account_file(CLIENT_SECRET_FILE, scopes=SCOPES)\n",
    "\n",
    "DATA_DIR = 'data'\n",
    "DB_DIR = 'db'\n",
    "\n",
    "DB_PATH = Path() / 'db'\n",
    "DATA_PATH = Path() / 'data'\n",
    "\n",
    "service = build('drive', 'v3', credentials=creds)"
   ]
  },
  {
   "cell_type": "code",
   "execution_count": 3,
   "id": "0c995ed2",
   "metadata": {},
   "outputs": [],
   "source": [
    "def create_service(api_key, api_name, api_version, scope):\n",
    "\n",
    "    creds = service_account.Credentials.from_service_account_file(api_key, scopes=scope)\n",
    "\n",
    "    try:\n",
    "        service = build(api_name, api_version, credentials=creds)\n",
    "        print(api_name, 'service created successfully')\n",
    "        return service\n",
    "    except Exception as e:\n",
    "        print('Unable to connect.')\n",
    "        print(e)\n",
    "        return None\n"
   ]
  },
  {
   "cell_type": "code",
   "execution_count": 4,
   "id": "12320a3b",
   "metadata": {},
   "outputs": [],
   "source": [
    "def get_file_id(service, file_name, mime_type=None, parent_id=None):\n",
    "    \"\"\"Return the ID of a Google Drive file\n",
    "\n",
    "    :param service: A Google Drive API service object\n",
    "    :param file_name: A string, the name of the file\n",
    "    :param mime_type: A string, optional MIME type of file to search for\n",
    "    :param parent_id: A string, optional id of a parent folder to search in\n",
    "\n",
    "    :return file_id: A string, file ID of the first found result\n",
    "    \"\"\"\n",
    "\n",
    "    file_id = None\n",
    "\n",
    "    query = \"\"\"name='{}'\n",
    "               and trashed=False\n",
    "               \"\"\".format(file_name)\n",
    "\n",
    "    if parent_id:\n",
    "        query += \"and parents in '{}'\".format(parent_id)\n",
    "\n",
    "    if mime_type:\n",
    "        query += \"and mimeType in '{}'\".format(mime_type)\n",
    "\n",
    "    try:\n",
    "        results = service.files().list(\n",
    "            q=query,\n",
    "            fields='files(name, id)').execute()\n",
    "\n",
    "        if len(results['files']) > 1:\n",
    "            print('Multiple files found, retrieving first from list')\n",
    "\n",
    "        file_id = results['files'][0]['id']\n",
    "\n",
    "    except Exception as e:\n",
    "        print('An error occurred: {}'.format(e))\n",
    "\n",
    "    return file_id\n"
   ]
  },
  {
   "cell_type": "markdown",
   "id": "5da7aa2a",
   "metadata": {},
   "source": [
    "# Load Google Sheets with final data "
   ]
  },
  {
   "cell_type": "code",
   "execution_count": 5,
   "id": "1aa50a10",
   "metadata": {},
   "outputs": [],
   "source": [
    "def upload_db_data(secret, db_path):\n",
    "    \"\"\" Loads processed data files to remote Google Sheets \"\"\"\n",
    "\n",
    "    scope = ['https://www.googleapis.com/auth/drive']\n",
    "    drive_service = create_service(secret, 'drive', 'v3', scope)\n",
    "    sheet_service = gspread.service_account('key.json')\n",
    "\n",
    "    db_folder_id = get_file_id(drive_service,\n",
    "                               file_name=DB_DIR,\n",
    "                               mime_type='application/vnd.google-apps.folder')\n",
    "\n",
    "    files = [f.name for f in os.scandir(DB_PATH) if f.name.endswith('.xlsx')]\n",
    "\n",
    "    for file in files:\n",
    "        print(\"Loading {} to Google Sheets\".format(file))\n",
    "        try:\n",
    "            df = pd.read_excel(db_path / file)\n",
    "\n",
    "            file_id = get_file_id(drive_service,\n",
    "                                  file[:-5],\n",
    "                                  parent_id=db_folder_id)\n",
    "\n",
    "            sh = sheet_service.open_by_key(file_id)\n",
    "            sh.values_clear(\"'Sheet1'!A:AAA\")\n",
    "            sh.sheet1.update([df.columns.values.tolist()] + df.fillna('').values.tolist())\n",
    "        except Exception as e:\n",
    "            print('Upload failed.')\n",
    "            print(e)\n",
    "            return None"
   ]
  },
  {
   "cell_type": "markdown",
   "id": "a0b8bb66",
   "metadata": {},
   "source": [
    "*Occasionally, you may receive an error 400 or similar during this step.  If so, just rerun the function in the last cell.*"
   ]
  },
  {
   "cell_type": "code",
   "execution_count": 6,
   "id": "73cc4a6c",
   "metadata": {},
   "outputs": [
    {
     "name": "stdout",
     "output_type": "stream",
     "text": [
      "drive service created successfully\n",
      "Loading bls_msa.detailed.xlsx to Google Sheets\n",
      "Loading bls_msa.major.xlsx to Google Sheets\n",
      "Loading bls_msa.total.xlsx to Google Sheets\n",
      "Loading bls_national.detailed.xlsx to Google Sheets\n",
      "Loading bls_national.major.xlsx to Google Sheets\n",
      "Loading bls_national.total.xlsx to Google Sheets\n",
      "Loading ipeds.awards.xlsx to Google Sheets\n",
      "Loading ipeds.tech_soc_awards.xlsx to Google Sheets\n"
     ]
    }
   ],
   "source": [
    "upload_db_data(CLIENT_SECRET_FILE, DB_PATH)"
   ]
  }
 ],
 "metadata": {
  "kernelspec": {
   "display_name": "Python 3",
   "language": "python",
   "name": "python3"
  },
  "language_info": {
   "codemirror_mode": {
    "name": "ipython",
    "version": 3
   },
   "file_extension": ".py",
   "mimetype": "text/x-python",
   "name": "python",
   "nbconvert_exporter": "python",
   "pygments_lexer": "ipython3",
   "version": "3.8.10"
  }
 },
 "nbformat": 4,
 "nbformat_minor": 5
}
